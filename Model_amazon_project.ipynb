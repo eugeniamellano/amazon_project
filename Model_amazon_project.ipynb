{
  "cells": [
    {
      "cell_type": "code",
      "execution_count": null,
      "metadata": {
        "id": "OeNVN3p587hh"
      },
      "outputs": [],
      "source": [
        "import numpy as np\n",
        "import pandas as pd\n",
        "import re\n",
        "import nltk\n",
        "from nltk.corpus import stopwords\n",
        "from nltk.stem import PorterStemmer\n",
        "from sklearn.model_selection import train_test_split\n",
        "from tensorflow.keras.preprocessing.text import Tokenizer\n",
        "from tensorflow.keras.preprocessing.sequence import pad_sequences\n",
        "from tensorflow.keras.models import Sequential\n",
        "from tensorflow.keras.layers import Embedding, LSTM, Dense, Dropout\n",
        "from tensorflow.keras.utils import to_categorical\n",
        "from tensorflow.keras.callbacks import ModelCheckpoint, EarlyStopping\n",
        "import matplotlib.pyplot as plt\n",
        "import seaborn as sns\n",
        "from sklearn.metrics import confusion_matrix, classification_report  \n",
        "from sklearn.feature_extraction.text import CountVectorizer\n",
        "from sklearn.linear_model import LogisticRegression\n",
        "from sklearn.metrics import accuracy_score\n",
        "from sklearn.model_selection import GridSearchCV\n",
        "\n"
      ]
    },
    {
      "cell_type": "code",
      "execution_count": 36,
      "metadata": {
        "colab": {
          "base_uri": "https://localhost:8080/"
        },
        "id": "xmqfXlIU9xwp",
        "outputId": "117beab5-0e53-40a5-a212-2a7744b354e7"
      },
      "outputs": [
        {
          "name": "stderr",
          "output_type": "stream",
          "text": [
            "[nltk_data] Downloading package stopwords to\n",
            "[nltk_data]     C:\\Users\\eugem\\AppData\\Roaming\\nltk_data...\n",
            "[nltk_data]   Package stopwords is already up-to-date!\n"
          ]
        },
        {
          "data": {
            "text/plain": [
              "True"
            ]
          },
          "execution_count": 36,
          "metadata": {},
          "output_type": "execute_result"
        }
      ],
      "source": [
        "# Download stopwords\n",
        "nltk.download('stopwords')"
      ]
    },
    {
      "cell_type": "code",
      "execution_count": 37,
      "metadata": {
        "id": "fPVWUs569MWD"
      },
      "outputs": [],
      "source": [
        "# Load data\n",
        "df = pd.read_csv(\"data/Amazon_Unlocked_Mobile.csv\")"
      ]
    },
    {
      "cell_type": "code",
      "execution_count": 38,
      "metadata": {
        "colab": {
          "base_uri": "https://localhost:8080/"
        },
        "id": "m5sgwpCM_viA",
        "outputId": "eb77cca2-8d1e-4108-b4b5-3b22bcdb6e70"
      },
      "outputs": [
        {
          "name": "stdout",
          "output_type": "stream",
          "text": [
            "<class 'pandas.core.frame.DataFrame'>\n",
            "RangeIndex: 413840 entries, 0 to 413839\n",
            "Data columns (total 6 columns):\n",
            " #   Column        Non-Null Count   Dtype  \n",
            "---  ------        --------------   -----  \n",
            " 0   Product Name  413840 non-null  object \n",
            " 1   Brand Name    348669 non-null  object \n",
            " 2   Price         407907 non-null  float64\n",
            " 3   Rating        413840 non-null  int64  \n",
            " 4   Reviews       413770 non-null  object \n",
            " 5   Review Votes  401544 non-null  float64\n",
            "dtypes: float64(2), int64(1), object(3)\n",
            "memory usage: 18.9+ MB\n"
          ]
        }
      ],
      "source": [
        "df.info()"
      ]
    },
    {
      "cell_type": "markdown",
      "metadata": {},
      "source": [
        "Prepare the data"
      ]
    },
    {
      "cell_type": "code",
      "execution_count": 39,
      "metadata": {},
      "outputs": [],
      "source": [
        "df = df.drop_duplicates()"
      ]
    },
    {
      "cell_type": "code",
      "execution_count": 40,
      "metadata": {},
      "outputs": [],
      "source": [
        "# Convert brand names to lowercase if the value is a string\n",
        "df[\"Brand Name\"] = df[\"Brand Name\"].apply(lambda x: x.lower() if isinstance(x, str) else x)"
      ]
    },
    {
      "cell_type": "code",
      "execution_count": 41,
      "metadata": {},
      "outputs": [],
      "source": [
        "# Convert product names to lowercase\n",
        "df[\"Product Name\"] = df[\"Product Name\"].str.lower()\n"
      ]
    },
    {
      "cell_type": "code",
      "execution_count": 42,
      "metadata": {},
      "outputs": [],
      "source": [
        "brands = [\n",
        "    \"samsung\", \"apple\", \"blu\", \"lg\", \"nokia\", \"blackberry\", \"motorola\", \"cnpgd\", \"htc\", \"sony\", \"otterbox\", \n",
        "    \"posh mobile\", \"huawei\", \"lg electronics\", \"lenovo\", \"asus\", \"zte\", \"polaroid\", \"alcatel\", \"verykool\", \n",
        "    \"casio\", \"figo\", \"pantech\", \"ultrabox\", \"star\", \"microsoft\", \"sky devices\", \"kyocera\", \"sandisk\", \"ecoopro\", \n",
        "    \"oneplus\", \"nextbit\", \"honor\", \"juning\", \"hipipooo\"\n",
        "]\n",
        "\n",
        "\n",
        "def complete_brand_name(row):\n",
        "    if pd.isna(row[\"Brand Name\"]):  \n",
        "        for brand in brands:\n",
        "            if brand in row[\"Product Name\"]:\n",
        "                return brand  \n",
        "    return row[\"Brand Name\"]\n",
        "\n",
        "df[\"Brand Name\"] = df.apply(complete_brand_name, axis=1)"
      ]
    },
    {
      "cell_type": "code",
      "execution_count": null,
      "metadata": {},
      "outputs": [],
      "source": [
        "# complete \"Brand Name\"  looking words like \"moto\" o \"iphone\" at \"Product Name\"\n",
        "df.loc[df[\"Product Name\"].str.contains(\"moto\", case=False, na=False), \"Brand Name\"] = \"motorola\"\n",
        "df.loc[df[\"Product Name\"].str.contains(\"iphone\", case=False, na=False), \"Brand Name\"] = \"apple\""
      ]
    },
    {
      "cell_type": "code",
      "execution_count": 44,
      "metadata": {},
      "outputs": [],
      "source": [
        "# Fill missing values in 'Review Votes' with 0 and convert to integer type\n",
        "\n",
        "df['Review Votes'] = df['Review Votes'].fillna(0).astype(int)"
      ]
    },
    {
      "cell_type": "code",
      "execution_count": null,
      "metadata": {},
      "outputs": [],
      "source": [
        "# Delete null valuees  'Brand Name' or 'Price'\n",
        "df.dropna(subset=['Brand Name', 'Price','Reviews'], inplace=True)"
      ]
    },
    {
      "cell_type": "markdown",
      "metadata": {},
      "source": [
        "Preprocessing"
      ]
    },
    {
      "cell_type": "code",
      "execution_count": 46,
      "metadata": {
        "id": "wAzeWS5nGg1l"
      },
      "outputs": [],
      "source": [
        "# Initialize the Porter Stemmer for word stemming\n",
        "ps = PorterStemmer()\n",
        "\n",
        "# Load stopwords in English\n",
        "stop_words = set(stopwords.words('english'))\n",
        "\n",
        "# Create an empty list to store preprocessed text\n",
        "corpus = []\n",
        "\n",
        "# Iterate through all reviews in the dataset\n",
        "for review in df['Reviews']:\n",
        "    # Convert non-alphabetic characters to spaces\n",
        "    cleaned_review = re.sub(r'[^a-zA-Z]', ' ', str(review))\n",
        "\n",
        "    # Convert the text to lowercase and split into words\n",
        "    words = cleaned_review.lower().split()\n",
        "\n",
        "    # Remove stopwords and apply stemming\n",
        "    processed_words = [ps.stem(word) for word in words if word not in stop_words]\n",
        "\n",
        "    # Join the processed words back into a single string\n",
        "    corpus.append(' '.join(processed_words))\n"
      ]
    },
    {
      "cell_type": "code",
      "execution_count": 48,
      "metadata": {},
      "outputs": [],
      "source": [
        "# Function to reassign ratings into 3 sentiment categories\n",
        "def categorize_sentiment(rating):\n",
        "    if rating <= 2:\n",
        "        return 0  # Negative sentiment\n",
        "    elif rating == 3:\n",
        "        return 1  # Neutral sentiment\n",
        "    else:\n",
        "        return 2  # Positive sentiment\n",
        "\n",
        "# Apply the function to create a new 'Sentiment' column\n",
        "df['Sentiment'] = df['Rating'].apply(categorize_sentiment)  # This was modified"
      ]
    },
    {
      "cell_type": "code",
      "execution_count": 61,
      "metadata": {},
      "outputs": [],
      "source": [
        "df.to_csv('preprocessed_data.csv', index=False)"
      ]
    },
    {
      "cell_type": "code",
      "execution_count": 18,
      "metadata": {
        "id": "dqYEdwqK-MHf"
      },
      "outputs": [],
      "source": [
        "# Initialize the tokenizer with a vocabulary size limit of 5000 words\n",
        "tokenizer = Tokenizer(num_words=5000)\n",
        "\n",
        "# Fit the tokenizer on the preprocessed text corpus\n",
        "tokenizer.fit_on_texts(corpus)\n",
        "\n",
        "# Convert the text corpus into sequences of numerical tokens\n",
        "X = tokenizer.texts_to_sequences(corpus)\n",
        "\n",
        "# Pad sequences to ensure they have the same length (max length: 100)\n",
        "X = pad_sequences(X, maxlen=100)\n"
      ]
    },
    {
      "cell_type": "code",
      "execution_count": 19,
      "metadata": {},
      "outputs": [],
      "source": [
        "import pickle\n",
        "\n",
        "# Guardar el tokenizador en un archivo .pkl\n",
        "with open('tokenizer.pkl', 'wb') as f:\n",
        "    pickle.dump(tokenizer, f)"
      ]
    },
    {
      "cell_type": "code",
      "execution_count": 21,
      "metadata": {
        "id": "f8JJJBI1Agri"
      },
      "outputs": [],
      "source": [
        "# Convert to categotical\n",
        "y = to_categorical(df['Sentiment'], num_classes=3) \n",
        "\n",
        "# Split the data train / test\n",
        "X_train, X_test, y_train, y_test = train_test_split(X, y, test_size=0.2, random_state=42)"
      ]
    },
    {
      "cell_type": "code",
      "execution_count": 22,
      "metadata": {
        "colab": {
          "base_uri": "https://localhost:8080/"
        },
        "id": "wOic-hMwAmMI",
        "outputId": "15290a97-533e-4b3f-ae90-0dd3289f4b47"
      },
      "outputs": [
        {
          "name": "stderr",
          "output_type": "stream",
          "text": [
            "c:\\Users\\eugem\\anaconda3\\envs\\env_full\\Lib\\site-packages\\keras\\src\\layers\\core\\embedding.py:90: UserWarning: Argument `input_length` is deprecated. Just remove it.\n",
            "  warnings.warn(\n"
          ]
        }
      ],
      "source": [
        "# Model LSTM\n",
        "model = Sequential()\n",
        "model.add(Embedding(input_dim=5000, output_dim=128, input_length=100))\n",
        "model.add(LSTM(100, return_sequences=True))\n",
        "model.add(Dropout(0.2))\n",
        "model.add(LSTM(100))\n",
        "model.add(Dropout(0.2))\n",
        "model.add(Dense(3, activation='softmax')) "
      ]
    },
    {
      "cell_type": "markdown",
      "metadata": {},
      "source": [
        "### **Why Use LSTM?**  \n",
        "LSTMs are ideal for sequential data like text because they retain long-term dependencies, making them effective for sentiment analysis. They help understand context and word relationships in reviews.  \n",
        "\n",
        "### **Model Breakdown**  \n",
        "- **Embedding Layer:** Converts words into 128-dimensional dense vectors, with a vocabulary size of 5000 and sequence length of 100.  \n",
        "- **LSTM (100, return_sequences=True):** Captures word dependencies while passing the sequence to the next layer.  \n",
        "- **Dropout (0.2):** Prevents overfitting by randomly deactivating 20% of neurons.  \n",
        "- **LSTM (100):** Processes the sequence and outputs a final hidden state.  \n",
        "- **Dropout (0.2):** Further regularization to improve generalization.  \n",
        "- **Dense (3, softmax):** Outputs probabilities for the three sentiment classes (negative, neutral, positive).  \n",
        "\n",
        "This architecture balances feature extraction, context retention, and regularization for robust sentiment classification."
      ]
    },
    {
      "cell_type": "code",
      "execution_count": 23,
      "metadata": {
        "id": "sfFyQzCpGDcJ"
      },
      "outputs": [],
      "source": [
        "# Compilación del modelo\n",
        "model.compile(loss='categorical_crossentropy', optimizer='adam', metrics=['accuracy'])"
      ]
    },
    {
      "cell_type": "code",
      "execution_count": 24,
      "metadata": {
        "id": "moJhMxnbD6k4"
      },
      "outputs": [],
      "source": [
        "# Callbacks: Early Stopping y Checkpoint\n",
        "checkpoint = ModelCheckpoint('best_model.keras', save_best_only=True, monitor='val_loss', mode='min')\n",
        "early_stopping = EarlyStopping(monitor='val_loss', patience=3, mode='min')\n"
      ]
    },
    {
      "cell_type": "code",
      "execution_count": 25,
      "metadata": {
        "colab": {
          "base_uri": "https://localhost:8080/"
        },
        "id": "2lHZXXb2D9TQ",
        "outputId": "392c51c7-6260-49a9-8dc5-e93b9570967b"
      },
      "outputs": [
        {
          "name": "stdout",
          "output_type": "stream",
          "text": [
            "Epoch 1/20\n",
            "\u001b[1m8574/8574\u001b[0m \u001b[32m━━━━━━━━━━━━━━━━━━━━\u001b[0m\u001b[37m\u001b[0m \u001b[1m1076s\u001b[0m 124ms/step - accuracy: 0.8410 - loss: 0.4416 - val_accuracy: 0.8703 - val_loss: 0.3576\n",
            "Epoch 2/20\n",
            "\u001b[1m8574/8574\u001b[0m \u001b[32m━━━━━━━━━━━━━━━━━━━━\u001b[0m\u001b[37m\u001b[0m \u001b[1m1275s\u001b[0m 149ms/step - accuracy: 0.8831 - loss: 0.3326 - val_accuracy: 0.8805 - val_loss: 0.3381\n",
            "Epoch 3/20\n",
            "\u001b[1m8574/8574\u001b[0m \u001b[32m━━━━━━━━━━━━━━━━━━━━\u001b[0m\u001b[37m\u001b[0m \u001b[1m1321s\u001b[0m 154ms/step - accuracy: 0.8986 - loss: 0.2928 - val_accuracy: 0.8917 - val_loss: 0.3191\n",
            "Epoch 4/20\n",
            "\u001b[1m8574/8574\u001b[0m \u001b[32m━━━━━━━━━━━━━━━━━━━━\u001b[0m\u001b[37m\u001b[0m \u001b[1m1281s\u001b[0m 149ms/step - accuracy: 0.9147 - loss: 0.2537 - val_accuracy: 0.8984 - val_loss: 0.3079\n",
            "Epoch 5/20\n",
            "\u001b[1m8574/8574\u001b[0m \u001b[32m━━━━━━━━━━━━━━━━━━━━\u001b[0m\u001b[37m\u001b[0m \u001b[1m1153s\u001b[0m 134ms/step - accuracy: 0.9273 - loss: 0.2217 - val_accuracy: 0.9044 - val_loss: 0.3013\n",
            "Epoch 6/20\n",
            "\u001b[1m8574/8574\u001b[0m \u001b[32m━━━━━━━━━━━━━━━━━━━━\u001b[0m\u001b[37m\u001b[0m \u001b[1m1586s\u001b[0m 185ms/step - accuracy: 0.9379 - loss: 0.1943 - val_accuracy: 0.9077 - val_loss: 0.3081\n",
            "Epoch 7/20\n",
            "\u001b[1m8574/8574\u001b[0m \u001b[32m━━━━━━━━━━━━━━━━━━━━\u001b[0m\u001b[37m\u001b[0m \u001b[1m1013s\u001b[0m 118ms/step - accuracy: 0.9448 - loss: 0.1742 - val_accuracy: 0.9087 - val_loss: 0.2985\n",
            "Epoch 8/20\n",
            "\u001b[1m8574/8574\u001b[0m \u001b[32m━━━━━━━━━━━━━━━━━━━━\u001b[0m\u001b[37m\u001b[0m \u001b[1m1025s\u001b[0m 120ms/step - accuracy: 0.9515 - loss: 0.1556 - val_accuracy: 0.9128 - val_loss: 0.3120\n",
            "Epoch 9/20\n",
            "\u001b[1m8574/8574\u001b[0m \u001b[32m━━━━━━━━━━━━━━━━━━━━\u001b[0m\u001b[37m\u001b[0m \u001b[1m1507s\u001b[0m 176ms/step - accuracy: 0.9566 - loss: 0.1392 - val_accuracy: 0.9124 - val_loss: 0.3200\n",
            "Epoch 10/20\n",
            "\u001b[1m8574/8574\u001b[0m \u001b[32m━━━━━━━━━━━━━━━━━━━━\u001b[0m\u001b[37m\u001b[0m \u001b[1m1319s\u001b[0m 154ms/step - accuracy: 0.9589 - loss: 0.1311 - val_accuracy: 0.9151 - val_loss: 0.3196\n"
          ]
        }
      ],
      "source": [
        "# Entrenamiento del modelo con callbacks\n",
        "history = model.fit(X_train, y_train,\n",
        "                    epochs=20,\n",
        "                    batch_size=32,\n",
        "                    validation_data=(X_test, y_test),\n",
        "                    callbacks=[checkpoint, early_stopping])"
      ]
    },
    {
      "cell_type": "code",
      "execution_count": 55,
      "metadata": {
        "colab": {
          "base_uri": "https://localhost:8080/"
        },
        "id": "hnSrBNUaEIww",
        "outputId": "e6e8f02c-5f5e-4ce5-98b5-83be266989a1"
      },
      "outputs": [
        {
          "ename": "NameError",
          "evalue": "name 'model' is not defined",
          "output_type": "error",
          "traceback": [
            "\u001b[1;31m---------------------------------------------------------------------------\u001b[0m",
            "\u001b[1;31mNameError\u001b[0m                                 Traceback (most recent call last)",
            "Cell \u001b[1;32mIn[55], line 2\u001b[0m\n\u001b[0;32m      1\u001b[0m \u001b[38;5;66;03m# Evaluación del modelo\u001b[39;00m\n\u001b[1;32m----> 2\u001b[0m loss, accuracy \u001b[38;5;241m=\u001b[39m model\u001b[38;5;241m.\u001b[39mevaluate(X_test, y_test)\n\u001b[0;32m      3\u001b[0m \u001b[38;5;28mprint\u001b[39m(\u001b[38;5;124mf\u001b[39m\u001b[38;5;124m\"\u001b[39m\u001b[38;5;124mAccuracy: \u001b[39m\u001b[38;5;132;01m{\u001b[39;00maccuracy\u001b[38;5;132;01m:\u001b[39;00m\u001b[38;5;124m.2f\u001b[39m\u001b[38;5;132;01m}\u001b[39;00m\u001b[38;5;124m\"\u001b[39m)\n",
            "\u001b[1;31mNameError\u001b[0m: name 'model' is not defined"
          ]
        }
      ],
      "source": [
        "# Evaluación del modelo\n",
        "loss, accuracy = model.evaluate(X_test, y_test)\n",
        "print(f\"Accuracy: {accuracy:.2f}\")\n"
      ]
    },
    {
      "cell_type": "code",
      "execution_count": 56,
      "metadata": {
        "colab": {
          "base_uri": "https://localhost:8080/"
        },
        "id": "vyp6FzZzELEK",
        "outputId": "d483cbc3-f73c-4094-e018-126ec36045c9"
      },
      "outputs": [
        {
          "ename": "NameError",
          "evalue": "name 'model' is not defined",
          "output_type": "error",
          "traceback": [
            "\u001b[1;31m---------------------------------------------------------------------------\u001b[0m",
            "\u001b[1;31mNameError\u001b[0m                                 Traceback (most recent call last)",
            "Cell \u001b[1;32mIn[56], line 2\u001b[0m\n\u001b[0;32m      1\u001b[0m \u001b[38;5;66;03m# Matriz de confusión\u001b[39;00m\n\u001b[1;32m----> 2\u001b[0m y_pred \u001b[38;5;241m=\u001b[39m model\u001b[38;5;241m.\u001b[39mpredict(X_test)  \u001b[38;5;66;03m# esto cambio\u001b[39;00m\n\u001b[0;32m      3\u001b[0m y_pred_labels \u001b[38;5;241m=\u001b[39m np\u001b[38;5;241m.\u001b[39margmax(y_pred, axis\u001b[38;5;241m=\u001b[39m\u001b[38;5;241m1\u001b[39m)  \u001b[38;5;66;03m# esto cambio\u001b[39;00m\n\u001b[0;32m      4\u001b[0m y_true_labels \u001b[38;5;241m=\u001b[39m np\u001b[38;5;241m.\u001b[39margmax(y_test, axis\u001b[38;5;241m=\u001b[39m\u001b[38;5;241m1\u001b[39m)  \u001b[38;5;66;03m# esto cambio\u001b[39;00m\n",
            "\u001b[1;31mNameError\u001b[0m: name 'model' is not defined"
          ]
        }
      ],
      "source": [
        "# Matriz de confusión\n",
        "y_pred = model.predict(X_test)  # esto cambio\n",
        "y_pred_labels = np.argmax(y_pred, axis=1)  # esto cambio\n",
        "y_true_labels = np.argmax(y_test, axis=1)  # esto cambio\n",
        "conf_matrix = confusion_matrix(y_true_labels, y_pred_labels)  # esto cambio\n"
      ]
    },
    {
      "cell_type": "code",
      "execution_count": 51,
      "metadata": {
        "colab": {
          "base_uri": "https://localhost:8080/",
          "height": 487
        },
        "id": "2Zzx8lzVDx8N",
        "outputId": "91c97fb4-c422-440e-cc2d-48b6ed46edcb"
      },
      "outputs": [
        {
          "data": {
            "image/png": "[encoded data removed]",
            "text/plain": [
              "<Figure size 600x500 with 2 Axes>"
            ]
          },
          "metadata": {},
          "output_type": "display_data"
        }
      ],
      "source": [
        "# Visualización de la matriz de confusión\n",
        "plt.figure(figsize=(6, 5))  # esto cambio\n",
        "sns.heatmap(conf_matrix, annot=True, fmt='d', cmap='Blues', xticklabels=['Negativo', 'Neutral', 'Positivo'], yticklabels=['Negativo', 'Neutral', 'Positivo'])  # esto cambio\n",
        "plt.xlabel('Predicho')  # esto cambio\n",
        "plt.ylabel('Real')  # esto cambio\n",
        "plt.title('Matriz de Confusión')  # esto cambio\n",
        "plt.show()  # esto cambio\n",
        "\n"
      ]
    },
    {
      "cell_type": "code",
      "execution_count": 29,
      "metadata": {
        "colab": {
          "base_uri": "https://localhost:8080/"
        },
        "id": "ecHpfaF2CyvE",
        "outputId": "b930a485-f82c-448e-8425-c1b9b7c5303b"
      },
      "outputs": [
        {
          "name": "stdout",
          "output_type": "stream",
          "text": [
            "              precision    recall  f1-score   support\n",
            "\n",
            "    Negativo       0.89      0.89      0.89     16588\n",
            "     Neutral       0.68      0.57      0.62      5385\n",
            "    Positivo       0.95      0.96      0.95     46619\n",
            "\n",
            "    accuracy                           0.92     68592\n",
            "   macro avg       0.84      0.81      0.82     68592\n",
            "weighted avg       0.91      0.92      0.91     68592\n",
            "\n"
          ]
        }
      ],
      "source": [
        "print(classification_report(y_true_labels, y_pred_labels, target_names=['Negativo', 'Neutral', 'Positivo']))  # esto cambio\n"
      ]
    },
    {
      "cell_type": "code",
      "execution_count": 30,
      "metadata": {},
      "outputs": [
        {
          "data": {
            "image/png": "[encoded data removed]",
            "text/plain": [
              "<Figure size 640x480 with 1 Axes>"
            ]
          },
          "metadata": {},
          "output_type": "display_data"
        }
      ],
      "source": [
        "# Visualize the loss during training\n",
        "plt.plot(history.history[\"loss\"], color=\"b\", label=\"Training Loss\")\n",
        "plt.plot(history.history[\"val_loss\"], color=\"r\", label=\"Validation Loss\")\n",
        "plt.ylabel(\"Loss\")\n",
        "plt.xlabel(\"Epochs\")\n",
        "plt.legend()\n",
        "plt.show()"
      ]
    },
    {
      "cell_type": "code",
      "execution_count": 31,
      "metadata": {},
      "outputs": [
        {
          "data": {
            "image/png": "[encoded data removed]",
            "text/plain": [
              "<Figure size 1000x600 with 1 Axes>"
            ]
          },
          "metadata": {},
          "output_type": "display_data"
        }
      ],
      "source": [
        "# Create a DataFrame with accuracy and validation accuracy data\n",
        "accuracy_data = pd.DataFrame({\n",
        "    'Epochs': range(1, len(history.history['accuracy']) + 1),\n",
        "    'Training Accuracy': history.history['accuracy'],\n",
        "    'Validation Accuracy': history.history['val_accuracy']\n",
        "})\n",
        "\n",
        "# Use Seaborn to visualize the data\n",
        "plt.figure(figsize=(10, 6))\n",
        "sns.lineplot(x='Epochs', y='value', hue='variable', data=pd.melt(accuracy_data, ['Epochs']))\n",
        "plt.xlabel('Epochs')\n",
        "plt.ylabel('Accuracy')\n",
        "plt.title('Training and Validation Accuracy over Epochs')\n",
        "plt.show()"
      ]
    },
    {
      "cell_type": "code",
      "execution_count": 32,
      "metadata": {
        "id": "8FE6c9OhFmBc"
      },
      "outputs": [
        {
          "name": "stderr",
          "output_type": "stream",
          "text": [
            "WARNING:absl:You are saving your model as an HDF5 file via `model.save()` or `keras.saving.save_model(model)`. This file format is considered legacy. We recommend using instead the native Keras format, e.g. `model.save('my_model.keras')` or `keras.saving.save_model(model, 'my_model.keras')`. \n"
          ]
        }
      ],
      "source": [
        "model.save('./amazon_model.h5')\n"
      ]
    },
    {
      "cell_type": "code",
      "execution_count": 33,
      "metadata": {},
      "outputs": [],
      "source": [
        "model.save('./amazon_model.keras')"
      ]
    },
    {
      "cell_type": "code",
      "execution_count": 34,
      "metadata": {},
      "outputs": [
        {
          "name": "stdout",
          "output_type": "stream",
          "text": [
            "INFO:tensorflow:Assets written to: amazon_model_lstm\\assets\n"
          ]
        },
        {
          "name": "stderr",
          "output_type": "stream",
          "text": [
            "INFO:tensorflow:Assets written to: amazon_model_lstm\\assets\n"
          ]
        },
        {
          "name": "stdout",
          "output_type": "stream",
          "text": [
            "Saved artifact at 'amazon_model_lstm'. The following endpoints are available:\n",
            "\n",
            "* Endpoint 'serve'\n",
            "  args_0 (POSITIONAL_ONLY): TensorSpec(shape=(None, 100), dtype=tf.float32, name='keras_tensor')\n",
            "Output Type:\n",
            "  TensorSpec(shape=(None, 3), dtype=tf.float32, name=None)\n",
            "Captures:\n",
            "  2103057330064: TensorSpec(shape=(), dtype=tf.resource, name=None)\n",
            "  2103057329680: TensorSpec(shape=(), dtype=tf.resource, name=None)\n",
            "  2103057330256: TensorSpec(shape=(), dtype=tf.resource, name=None)\n",
            "  2103054405648: TensorSpec(shape=(), dtype=tf.resource, name=None)\n",
            "  2103054405840: TensorSpec(shape=(), dtype=tf.resource, name=None)\n",
            "  2103054406416: TensorSpec(shape=(), dtype=tf.resource, name=None)\n",
            "  2103054405264: TensorSpec(shape=(), dtype=tf.resource, name=None)\n",
            "  2103054406992: TensorSpec(shape=(), dtype=tf.resource, name=None)\n",
            "  2103116938896: TensorSpec(shape=(), dtype=tf.resource, name=None)\n"
          ]
        }
      ],
      "source": [
        "model.export(\"amazon_model_lstm\")\n"
      ]
    },
    {
      "cell_type": "markdown",
      "metadata": {},
      "source": [
        "## LINEAR REGRESSION MODEL"
      ]
    },
    {
      "cell_type": "code",
      "execution_count": 69,
      "metadata": {},
      "outputs": [
        {
          "name": "stdout",
          "output_type": "stream",
          "text": [
            "<class 'pandas.core.frame.DataFrame'>\n",
            "Index: 342957 entries, 0 to 413829\n",
            "Data columns (total 7 columns):\n",
            " #   Column        Non-Null Count   Dtype  \n",
            "---  ------        --------------   -----  \n",
            " 0   Product Name  342957 non-null  object \n",
            " 1   Brand Name    342957 non-null  object \n",
            " 2   Price         342957 non-null  float64\n",
            " 3   Rating        342957 non-null  int64  \n",
            " 4   Reviews       342957 non-null  object \n",
            " 5   Review Votes  342957 non-null  int32  \n",
            " 6   Sentiment     342957 non-null  int64  \n",
            "dtypes: float64(1), int32(1), int64(2), object(3)\n",
            "memory usage: 19.6+ MB\n"
          ]
        }
      ],
      "source": [
        "df.info()"
      ]
    },
    {
      "cell_type": "code",
      "execution_count": 80,
      "metadata": {},
      "outputs": [],
      "source": [
        "# Use CountVectorizer to convert text data into numerical data\n",
        "vectorizer = CountVectorizer(stop_words='english')\n",
        "X_LR = vectorizer.fit_transform(df['Reviews'])\n",
        "\n",
        "# Labels (Sentiment)\n",
        "y_LR = df['Sentiment']"
      ]
    },
    {
      "cell_type": "code",
      "execution_count": 81,
      "metadata": {},
      "outputs": [],
      "source": [
        "# Split the dataset into training and testing sets\n",
        "X_train_LR, X_test_LR, y_train_LR, y_test_LR = train_test_split(X_LR, y_LR, test_size=0.2, random_state=42)"
      ]
    },
    {
      "cell_type": "code",
      "execution_count": 82,
      "metadata": {},
      "outputs": [],
      "source": [
        "param_grid = {\n",
        "    'C': [0.1, 1, 10],        # Menos valores para explorar\n",
        "    'penalty': ['l2'],         # Solo Ridge (menos costoso computacionalmente)\n",
        "    'solver': ['liblinear']    # Se mantiene porque es eficiente para conjuntos de datos pequeños/medianos\n",
        "}"
      ]
    },
    {
      "cell_type": "code",
      "execution_count": null,
      "metadata": {},
      "outputs": [],
      "source": [
        "model_LR = LogisticRegression(max_iter=1000)"
      ]
    },
    {
      "cell_type": "code",
      "execution_count": null,
      "metadata": {},
      "outputs": [
        {
          "name": "stdout",
          "output_type": "stream",
          "text": [
            "Best Parameters: {'C': 10, 'penalty': 'l2', 'solver': 'liblinear'}\n"
          ]
        },
        {
          "name": "stderr",
          "output_type": "stream",
          "text": [
            "c:\\Users\\eugem\\anaconda3\\Lib\\site-packages\\sklearn\\svm\\_base.py:1235: ConvergenceWarning: Liblinear failed to converge, increase the number of iterations.\n",
            "  warnings.warn(\n"
          ]
        }
      ],
      "source": [
        "# Config  GridSearchCV\n",
        "grid_search = GridSearchCV(\n",
        "    estimator=model_LR,        # Model\n",
        "    param_grid=param_grid,     # Hiperparam to explore\n",
        "    cv=5,                      # Cross validation 5 folds\n",
        "    scoring='accuracy',        # Metric\n",
        "    n_jobs=-1                  \n",
        ")\n",
        "# Train GridSearchCV\n",
        "grid_search.fit(X_train_LR, y_train_LR)\n"
      ]
    },
    {
      "cell_type": "code",
      "execution_count": null,
      "metadata": {},
      "outputs": [
        {
          "name": "stdout",
          "output_type": "stream",
          "text": [
            "Best Parameters: {'C': 10, 'penalty': 'l2', 'solver': 'liblinear'}\n"
          ]
        }
      ],
      "source": [
        "# best model\n",
        "best_model = grid_search.best_estimator_\n",
        "print(\"Best Parameters:\", grid_search.best_params_)"
      ]
    },
    {
      "cell_type": "code",
      "execution_count": null,
      "metadata": {},
      "outputs": [
        {
          "name": "stdout",
          "output_type": "stream",
          "text": [
            "Accuracy: 0.885409377186844\n",
            "              precision    recall  f1-score   support\n",
            "\n",
            "           0       0.85      0.84      0.84     16588\n",
            "           1       0.69      0.33      0.45      5385\n",
            "           2       0.91      0.97      0.94     46619\n",
            "\n",
            "    accuracy                           0.89     68592\n",
            "   macro avg       0.82      0.71      0.74     68592\n",
            "weighted avg       0.88      0.89      0.88     68592\n",
            "\n"
          ]
        }
      ],
      "source": [
        "# Predictions\n",
        "y_pred_LR = best_model.predict(X_test_LR)\n",
        "\n",
        "# Metrics\n",
        "print(\"Accuracy:\", accuracy_score(y_test_LR, y_pred_LR))\n",
        "print(classification_report(y_test_LR, y_pred_LR))"
      ]
    },
    {
      "cell_type": "code",
      "execution_count": 21,
      "metadata": {},
      "outputs": [
        {
          "data": {
            "image/png": "[encoded data removed]",
            "text/plain": [
              "<Figure size 800x600 with 2 Axes>"
            ]
          },
          "metadata": {},
          "output_type": "display_data"
        }
      ],
      "source": [
        "# Create a confusion matrix to visualize the model's performance\n",
        "conf_matrix = confusion_matrix(y_test_LR, y_pred_LR)\n",
        "\n",
        "# Plot the confusion matrix\n",
        "plt.figure(figsize=(8, 6))\n",
        "sns.heatmap(conf_matrix, annot=True, fmt='d', cmap='Blues', xticklabels=['Negative', 'Neutral', 'Positive'], yticklabels=['Negative', 'Neutral', 'Positive'])\n",
        "plt.xlabel('Predicted')\n",
        "plt.ylabel('Actual')\n",
        "plt.title('Confusion Matrix')\n",
        "plt.show()"
      ]
    },
    {
      "cell_type": "code",
      "execution_count": null,
      "metadata": {},
      "outputs": [],
      "source": [
        "# Predict\n",
        "y_pred_LR = best_model.predict(X_test_LR)\n",
        "\n",
        "# Concert y_pred_LR to a DataFrame \n",
        "predictions_df = pd.DataFrame(y_pred_LR, columns=['Prediction'], index=y_test_LR.index)\n",
        "\n",
        "\n",
        "result_df = df.loc[y_test_LR.index].copy()\n",
        "result_df['Prediction'] = predictions_df['Prediction']\n",
        "\n"
      ]
    },
    {
      "cell_type": "code",
      "execution_count": 93,
      "metadata": {},
      "outputs": [],
      "source": [
        "result_df.to_csv('result_data.csv', index=False)"
      ]
    },
    {
      "cell_type": "markdown",
      "metadata": {},
      "source": [
        "CREATE DATA PRODUCTION to test evidently"
      ]
    },
    {
      "cell_type": "code",
      "execution_count": null,
      "metadata": {},
      "outputs": [
        {
          "data": {
            "text/html": [
              "<div>\n",
              "<style scoped>\n",
              "    .dataframe tbody tr th:only-of-type {\n",
              "        vertical-align: middle;\n",
              "    }\n",
              "\n",
              "    .dataframe tbody tr th {\n",
              "        vertical-align: top;\n",
              "    }\n",
              "\n",
              "    .dataframe thead th {\n",
              "        text-align: right;\n",
              "    }\n",
              "</style>\n",
              "<table border=\"1\" class=\"dataframe\">\n",
              "  <thead>\n",
              "    <tr style=\"text-align: right;\">\n",
              "      <th></th>\n",
              "      <th>Product Name</th>\n",
              "      <th>Brand Name</th>\n",
              "      <th>Price</th>\n",
              "      <th>Rating</th>\n",
              "      <th>Reviews</th>\n",
              "      <th>Review Votes</th>\n",
              "      <th>Sentiment</th>\n",
              "    </tr>\n",
              "  </thead>\n",
              "  <tbody>\n",
              "    <tr>\n",
              "      <th>0</th>\n",
              "      <td>\"clear clean esn\" sprint epic 4g galaxy sph-d7...</td>\n",
              "      <td>samsung</td>\n",
              "      <td>207.007925</td>\n",
              "      <td>4</td>\n",
              "      <td>I feel so LUCKY to have found this used (phone...</td>\n",
              "      <td>1.0</td>\n",
              "      <td>2</td>\n",
              "    </tr>\n",
              "    <tr>\n",
              "      <th>1</th>\n",
              "      <td>\"clear clean esn\" sprint epic 4g galaxy sph-d7...</td>\n",
              "      <td>NewBrandXYZ</td>\n",
              "      <td>265.104762</td>\n",
              "      <td>4</td>\n",
              "      <td>nice phone, nice up grade from my pantach revu...</td>\n",
              "      <td>0.0</td>\n",
              "      <td>2</td>\n",
              "    </tr>\n",
              "    <tr>\n",
              "      <th>2</th>\n",
              "      <td>\"clear clean esn\" sprint epic 4g galaxy sph-d7...</td>\n",
              "      <td>samsung</td>\n",
              "      <td>271.053492</td>\n",
              "      <td>4</td>\n",
              "      <td>Very pleased</td>\n",
              "      <td>NaN</td>\n",
              "      <td>2</td>\n",
              "    </tr>\n",
              "    <tr>\n",
              "      <th>3</th>\n",
              "      <td>\"clear clean esn\" sprint epic 4g galaxy sph-d7...</td>\n",
              "      <td>samsung</td>\n",
              "      <td>258.947025</td>\n",
              "      <td>4</td>\n",
              "      <td>It works good but it goes slow sometimes but i...</td>\n",
              "      <td>0.0</td>\n",
              "      <td>2</td>\n",
              "    </tr>\n",
              "    <tr>\n",
              "      <th>4</th>\n",
              "      <td>\"clear clean esn\" sprint epic 4g galaxy sph-d7...</td>\n",
              "      <td>samsung</td>\n",
              "      <td>263.354799</td>\n",
              "      <td>3</td>\n",
              "      <td>Great phone to replace my lost phone. The only...</td>\n",
              "      <td>0.0</td>\n",
              "      <td>2</td>\n",
              "    </tr>\n",
              "  </tbody>\n",
              "</table>\n",
              "</div>"
            ],
            "text/plain": [
              "                                        Product Name   Brand Name       Price  \\\n",
              "0  \"clear clean esn\" sprint epic 4g galaxy sph-d7...      samsung  207.007925   \n",
              "1  \"clear clean esn\" sprint epic 4g galaxy sph-d7...  NewBrandXYZ  265.104762   \n",
              "2  \"clear clean esn\" sprint epic 4g galaxy sph-d7...      samsung  271.053492   \n",
              "3  \"clear clean esn\" sprint epic 4g galaxy sph-d7...      samsung  258.947025   \n",
              "4  \"clear clean esn\" sprint epic 4g galaxy sph-d7...      samsung  263.354799   \n",
              "\n",
              "   Rating                                            Reviews  Review Votes  \\\n",
              "0       4  I feel so LUCKY to have found this used (phone...           1.0   \n",
              "1       4  nice phone, nice up grade from my pantach revu...           0.0   \n",
              "2       4                                       Very pleased           NaN   \n",
              "3       4  It works good but it goes slow sometimes but i...           0.0   \n",
              "4       3  Great phone to replace my lost phone. The only...           0.0   \n",
              "\n",
              "   Sentiment  \n",
              "0          2  \n",
              "1          2  \n",
              "2          2  \n",
              "3          2  \n",
              "4          2  "
            ]
          },
          "execution_count": 31,
          "metadata": {},
          "output_type": "execute_result"
        }
      ],
      "source": [
        "# data reference\n",
        "df_production = df\n",
        "\n",
        "df_production.head()"
      ]
    },
    {
      "cell_type": "code",
      "execution_count": 32,
      "metadata": {},
      "outputs": [
        {
          "name": "stdout",
          "output_type": "stream",
          "text": [
            "<class 'pandas.core.frame.DataFrame'>\n",
            "Index: 342957 entries, 0 to 413829\n",
            "Data columns (total 7 columns):\n",
            " #   Column        Non-Null Count   Dtype  \n",
            "---  ------        --------------   -----  \n",
            " 0   Product Name  342957 non-null  object \n",
            " 1   Brand Name    342957 non-null  object \n",
            " 2   Price         342957 non-null  float64\n",
            " 3   Rating        342957 non-null  int64  \n",
            " 4   Reviews       342957 non-null  object \n",
            " 5   Review Votes  308661 non-null  float64\n",
            " 6   Sentiment     342957 non-null  int64  \n",
            "dtypes: float64(2), int64(2), object(3)\n",
            "memory usage: 29.0+ MB\n"
          ]
        }
      ],
      "source": [
        "df_production.info()"
      ]
    },
    {
      "cell_type": "code",
      "execution_count": 33,
      "metadata": {},
      "outputs": [],
      "source": [
        "# Simulate drift in 'Price' by multiplying with random values between 0.9 and 1.5\n",
        "df_production['Price'] = df_production['Price'] * np.random.uniform(0.9, 1.5, size=len(df_production))\n",
        "# Reason: Prices in production may fluctuate due to promotions, inflation, or pricing errors\n",
        "\n",
        "# Simulate drift in 'Rating' by modifying the values with a random factor between 0.8 and 1.2\n",
        "df_production['Rating'] = df_production['Rating'].apply(\n",
        "    lambda x: min(5, max(1, int(x * np.random.uniform(0.8, 1.2))))\n",
        ")\n",
        "# Reason: Ratings might shift in production due to changes in customer satisfaction or review manipulation\n",
        "\n",
        "# Introduce missing values (NaNs) in 10% of the 'Review Votes' column\n",
        "nan_indices = df_production.sample(frac=0.1, random_state=42).index  # Select 10% of the rows\n",
        "df_production.loc[nan_indices, 'Review Votes'] = np.nan\n",
        "# Reason: In real production scenarios, data ingestion pipelines may generate missing values unexpectedly\n",
        "\n",
        "# Save the simulated production dataset to a CSV file\n",
        "df_production.to_csv('production_data.csv', index=False)\n",
        "# Reason: This file will be used as the production dataset in the monitoring process"
      ]
    },
    {
      "cell_type": "markdown",
      "metadata": {},
      "source": [
        "### Simulating a Production Dataset for Data Drift and Quality Monitoring\n",
        "\n",
        "In real-world machine learning applications, data received in production often differs from the training data (reference dataset). These differences can result in **data drift**, **concept drift**, and **data quality issues**, which may lead to degraded model performance or system failures. \n",
        "\n",
        "To prepare for such scenarios, we created a **simulated production dataset** with intentional modifications. This allows us to test data monitoring tools like **Evidently AI**, evaluate the system's robustness, and detect potential issues early.\n",
        "\n",
        "---\n",
        "\n",
        "### Step-by-Step Explanation\n",
        "\n",
        " 1. Start from a Clean Reference Dataset : *loaded and copied** the clean dataset, which represents the data used for training and model validation. This ensures we are starting from a controlled and known distribution.\n",
        " 2. We modified the Price column by multiplying it with random values ranging from 0.9 to 1.5. This simulates:\n",
        "    - Inflation or price updates\n",
        "    - Seasonal discounts or promotions\n",
        "    - Data inconsistencies from upstream sources\n",
        "3. We altered the Rating column by randomly scaling the values and bounding them between 1 and 5. This emulates:\n",
        "    - Changing user perceptions\n",
        "    - Manipulated or biased reviews\n",
        "    - Review policy changes\n",
        "4. We introduced NaN values in 10% of the Review Votes data, simulating:\n",
        "    - Data ingestion issues\n",
        "    - Optional fields not being filled\n",
        "    - Broken API integrations or ETL errors\n",
        "5. We saved the simulated production dataset to a CSV file\n",
        "\n",
        "\n"
      ]
    },
    {
      "cell_type": "markdown",
      "metadata": {},
      "source": [
        "### Conclusion of the Project\n",
        "\n",
        "The **LSTM model** outperforms the **linear regression model** across all key metrics, especially in precision and recall for the minority class (*Neutral*). This suggests that the LSTM model has a better ability to capture complex patterns in textual data.  \n",
        "\n",
        "- **Overall accuracy**: The LSTM model achieves **92% accuracy**, compared to **88.5% for linear regression**.  \n",
        "- **Minority class performance**: The *Neutral* class remains the most challenging to predict, but there is a notable improvement in recall (from **33% in linear regression** to **57% with LSTM**).  \n",
        "- **Class balance**: The LSTM model achieves a better balance between precision and recall across all categories, indicating less bias towards the majority class (*Positive*).  \n",
        "\n",
        "---\n",
        "\n",
        "### Possible Improvements  \n",
        "\n",
        "Since the LSTM model **takes significantly longer to train**, it is essential to assess whether the increase in accuracy justifies the computational cost. Some improvements to optimize performance include:  \n",
        "\n",
        "1. **LSTM Model Optimization**  \n",
        "   - Experimenting with different architectures, such as adding more layers or adjusting the network size.  \n",
        "   - Using techniques like *Batch Normalization* or *Dropout* to improve generalization.  \n",
        "   - Tuning key hyperparameters such as batch size, learning rate, and the number of LSTM units.  \n",
        "\n",
        "2. **Better Handling of the Minority Class (*Neutral*)**  \n",
        "   - Applying data balancing techniques like *oversampling* or *SMOTE*.  \n",
        "   - Adjusting the loss function to give more weight to the minority class.  \n",
        "\n",
        "3. **Exploring Other Models**  \n",
        "   - Evaluating more efficient models like **Transformer-based architectures** (*BERT, DistilBERT*), which may achieve similar accuracy with shorter training times.  \n",
        "   - Implementing a **Convolutional Neural Network (CNN) for text**, which in some cases can be faster and more effective than an LSTM.  \n",
        "\n",
        "4. **Using Pretrained Embeddings**  \n",
        "   - Implementing *Word2Vec, GloVe, or FastText* to enhance word representation in the LSTM model.  \n",
        "\n",
        "If training time remains an issue, another option could be to explore a **hybrid model**, combining advanced embeddings with a simpler classifier like a **Deep Neural Network (DNN)** or **Support Vector Machine (SVM)**.  \n"
      ]
    },
    {
      "cell_type": "markdown",
      "metadata": {},
      "source": []
    }
  ],
  "metadata": {
    "accelerator": "GPU",
    "colab": {
      "gpuType": "L4",
      "machine_shape": "hm",
      "provenance": []
    },
    "kernelspec": {
      "display_name": "base",
      "language": "python",
      "name": "python3"
    },
    "language_info": {
      "codemirror_mode": {
        "name": "ipython",
        "version": 3
      },
      "file_extension": ".py",
      "mimetype": "text/x-python",
      "name": "python",
      "nbconvert_exporter": "python",
      "pygments_lexer": "ipython3",
      "version": "3.12.7"
    }
  },
  "nbformat": 4,
  "nbformat_minor": 0
}
